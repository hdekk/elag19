{
  "nbformat": 4,
  "nbformat_minor": 0,
  "metadata": {
    "colab": {
      "name": "ML_lesson.ipynb",
      "version": "0.3.2",
      "provenance": [],
      "collapsed_sections": []
    },
    "kernelspec": {
      "name": "python3",
      "display_name": "Python 3"
    }
  },
  "cells": [
    {
      "cell_type": "markdown",
      "metadata": {
        "id": "uqCx4Yn5kqXw",
        "colab_type": "text"
      },
      "source": [
        "This lesson was adapted from code posted in the following article: \n",
        "[A Simple NLP Sentiment Analysis with Keras and Google Colaboratory](https://medium.com/i-a/simple-nlp-sentiment-analysis-with-google-colaboratory-761a5391b57c) \n"
      ]
    },
    {
      "cell_type": "markdown",
      "metadata": {
        "id": "v8WRJe0CsRrg",
        "colab_type": "text"
      },
      "source": [
        "**Step 1:**  \n",
        "Load required modules"
      ]
    },
    {
      "cell_type": "code",
      "metadata": {
        "id": "4f19zoaz37I6",
        "colab_type": "code",
        "colab": {}
      },
      "source": [
        "import numpy as np\n",
        "import requests"
      ],
      "execution_count": 0,
      "outputs": []
    },
    {
      "cell_type": "markdown",
      "metadata": {
        "id": "xLN6GtBz4gHz",
        "colab_type": "text"
      },
      "source": [
        "**Step 2:**\n",
        "\n",
        "Download three training data files and append the lines to a single list."
      ]
    },
    {
      "cell_type": "code",
      "metadata": {
        "id": "Q-KTddt34nAH",
        "colab_type": "code",
        "colab": {}
      },
      "source": [
        "urlpath = 'https://raw.githubusercontent.com/hdekk/elag19/master/'\n",
        "filenames = ['imdb_labelled.txt', 'amazon_cells_labelled.txt', 'yelp_labelled.txt']\n",
        "corpus = []\n",
        "for f in filenames:\n",
        "  response = requests.get(urlpath + f)\n",
        "  corpus += response.text.split('\\r\\n')\n",
        "\n"
      ],
      "execution_count": 0,
      "outputs": []
    },
    {
      "cell_type": "markdown",
      "metadata": {
        "id": "hMZUP2pmsoFI",
        "colab_type": "text"
      },
      "source": [
        "**Step 3:**  \n",
        "Split each line on the tab character and drop any line containing an empty text field. Also, drop any line that doesn't contain exactly two records."
      ]
    },
    {
      "cell_type": "code",
      "metadata": {
        "id": "b62ExXCi7Fa6",
        "colab_type": "code",
        "colab": {}
      },
      "source": [
        "clean_corpus = [line.split('\\t') for line in corpus if len(line.split('\\t')) == 2 and line.split('\\t')[1] != '']"
      ],
      "execution_count": 0,
      "outputs": []
    },
    {
      "cell_type": "markdown",
      "metadata": {
        "id": "51goZjDI9BCJ",
        "colab_type": "text"
      },
      "source": [
        "**Optional:**  \n",
        "Compare the number of lines in the raw data to the number in the cleaned data."
      ]
    },
    {
      "cell_type": "code",
      "metadata": {
        "id": "jF2qMDMY8_wa",
        "colab_type": "code",
        "outputId": "5b6ada59-9ab9-4a64-8c6f-6e01a03cbd63",
        "colab": {
          "base_uri": "https://localhost:8080/",
          "height": 51
        }
      },
      "source": [
        "print(len(corpus))\n",
        "print(len(clean_corpus))"
      ],
      "execution_count": 24,
      "outputs": [
        {
          "output_type": "stream",
          "text": [
            "3003\n",
            "3000\n"
          ],
          "name": "stdout"
        }
      ]
    },
    {
      "cell_type": "markdown",
      "metadata": {
        "id": "36D3gju4s3G0",
        "colab_type": "text"
      },
      "source": [
        "**Train the model**"
      ]
    },
    {
      "cell_type": "code",
      "metadata": {
        "id": "9kDsWB1A9bkj",
        "colab_type": "code",
        "colab": {}
      },
      "source": [
        "train_documents = [line[0] for line in clean_corpus]\n",
        "train_labels = [int(line[1]) for line in clean_corpus]"
      ],
      "execution_count": 0,
      "outputs": []
    },
    {
      "cell_type": "markdown",
      "metadata": {
        "id": "SvUU_7sh-RcJ",
        "colab_type": "text"
      },
      "source": [
        "**Use Naive Bayes Algorithm from the scikit-learn module**"
      ]
    },
    {
      "cell_type": "code",
      "metadata": {
        "id": "YnnJiIs8-cJG",
        "colab_type": "code",
        "colab": {}
      },
      "source": [
        "from sklearn.feature_extraction.text import CountVectorizer\n",
        "from sklearn.naive_bayes import BernoulliNB"
      ],
      "execution_count": 0,
      "outputs": []
    },
    {
      "cell_type": "markdown",
      "metadata": {
        "id": "7OFeK4k8_eUi",
        "colab_type": "text"
      },
      "source": [
        "**Convert the training set to a matrix of token counts**"
      ]
    },
    {
      "cell_type": "code",
      "metadata": {
        "id": "C9nT5lYc_n75",
        "colab_type": "code",
        "colab": {}
      },
      "source": [
        "count_vectorizer = CountVectorizer(binary='true')\n",
        "train_documents = count_vectorizer.fit_transform(train_documents)"
      ],
      "execution_count": 0,
      "outputs": []
    },
    {
      "cell_type": "markdown",
      "metadata": {
        "id": "er0WzkiRAowQ",
        "colab_type": "text"
      },
      "source": [
        "**Fit BernoulliNB Classifier**"
      ]
    },
    {
      "cell_type": "code",
      "metadata": {
        "id": "sVaDKJj-AwzG",
        "colab_type": "code",
        "colab": {}
      },
      "source": [
        "classifier = BernoulliNB().fit(train_documents, train_labels)"
      ],
      "execution_count": 0,
      "outputs": []
    },
    {
      "cell_type": "markdown",
      "metadata": {
        "id": "ZmHuNf0RBFmF",
        "colab_type": "text"
      },
      "source": [
        "**Create a function to output the sentiment**"
      ]
    },
    {
      "cell_type": "code",
      "metadata": {
        "id": "_1Z8J55nBEht",
        "colab_type": "code",
        "colab": {}
      },
      "source": [
        "def predictionOutput(sentence):\n",
        "  prediction = classifier.predict(count_vectorizer.transform([sentence]))\n",
        "  if(prediction[0] == 1):\n",
        "    print('This is a positive statement')\n",
        "  elif(prediction[0] == 0):\n",
        "    print('This is a negative statement')"
      ],
      "execution_count": 0,
      "outputs": []
    },
    {
      "cell_type": "markdown",
      "metadata": {
        "id": "FfK4gLflCQqC",
        "colab_type": "text"
      },
      "source": [
        "**Let's test it!**"
      ]
    },
    {
      "cell_type": "code",
      "metadata": {
        "id": "Gg-lhWIz18qD",
        "colab_type": "code",
        "colab": {
          "base_uri": "https://localhost:8080/",
          "height": 34
        },
        "outputId": "fcf537cd-9161-4587-eb94-77de70256399"
      },
      "source": [
        "predictionOutput('Berlin is a wonderful city')"
      ],
      "execution_count": 31,
      "outputs": [
        {
          "output_type": "stream",
          "text": [
            "This is a positive statement\n"
          ],
          "name": "stdout"
        }
      ]
    },
    {
      "cell_type": "code",
      "metadata": {
        "id": "aY4D0hOMCVQU",
        "colab_type": "code",
        "outputId": "578d42c5-50ca-466a-b768-41c0566bf53f",
        "colab": {
          "base_uri": "https://localhost:8080/",
          "height": 34
        }
      },
      "source": [
        "predictionOutput('The traffic in Berlin is terrible')"
      ],
      "execution_count": 32,
      "outputs": [
        {
          "output_type": "stream",
          "text": [
            "This is a negative statement\n"
          ],
          "name": "stdout"
        }
      ]
    }
  ]
}